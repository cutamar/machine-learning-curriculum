{
 "cells": [
  {
   "cell_type": "markdown",
   "metadata": {},
   "source": [
    "### Cost Function (Regularization)\n",
    "- Say we wanted to make the following function more quadratic (because it's overfitting):\n",
    "    - $\\theta_0 + \\theta_1 x + \\theta_2 x^2 + \\theta_3 x^3 + \\theta_4 x^4$\n",
    "- We'll want to eliminate the influence of $\\theta_3 x^3$ and $\\theta_4 x^4$\n",
    "- We do this by modifying the cost function\n",
    "    - $\\min_\\theta \\frac{1}{2m}\\sum_{i=1}^m(h_\\theta(x^{(i)})-y^{(i)})^2+\\color{red}{\\lambda \\sum_{j=1}^n \\theta_j^2}$\n",
    "    - The red term is added, so it can penalize all parameters (except the $\\theta_0$ parameter, which in practice doesn't need to be penalized)\n",
    "    - By doing this, we can smooth out the output of our hypothesis function to reduce overfitting\n",
    "    - $\\lambda$ is the **regularization parameter** and shouldn't be too big or too small"
   ]
  },
  {
   "cell_type": "code",
   "execution_count": null,
   "metadata": {},
   "outputs": [],
   "source": []
  }
 ],
 "metadata": {
  "kernelspec": {
   "display_name": "Python 3",
   "language": "python",
   "name": "python3"
  },
  "language_info": {
   "codemirror_mode": {
    "name": "ipython",
    "version": 3
   },
   "file_extension": ".py",
   "mimetype": "text/x-python",
   "name": "python",
   "nbconvert_exporter": "python",
   "pygments_lexer": "ipython3",
   "version": "3.7.0"
  }
 },
 "nbformat": 4,
 "nbformat_minor": 2
}
